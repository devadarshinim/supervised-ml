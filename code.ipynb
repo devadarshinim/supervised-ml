import numpy as np
import pandas as pd
import sklearn as sk

import matplotlib.pyplot as plt
%matplotlib inline

from sklearn.model_selection import train_test_split
from sklearn.linear_model import LinearRegression








url = "http://bit.ly/w-data"
p_data=pd.read_csv(url)
print("Data imported!")

p_data.head(p_data.shape[0])







p_data.info()








#Scatter plot of scores
p_data.plot(x='Hours',y='Scores', style='o')
plt.title('Hours vs Scores')
plt.xlabel('Hours')
plt.ylabel('Score')
plt.show()







#Hours is independent variable, hence X
X = p_data.iloc[:, :-1].values

#Scores is dependent variable, hence Y
Y = p_data.iloc[:, 1].values







X_train, X_test, Y_train, Y_test = train_test_split(X,Y,test_size=0.5)






try: 
    reg=LinearRegression(fit_intercept=True, normalize=True, copy_X=True).fit(X_train,Y_train)
except:
    reg=LinearRegression(fit_intercept=True, normalize=True, copy_X=True).fit(X_train,Y_train)
display("Training complete.")








print("Co-Efficient : ",reg.coef_)
print("Intercept : ",reg.intercept_)







line = reg.coef_*X+reg.intercept_

plt.title('Hours vs Scores')
plt.xlabel('Hours')
plt.ylabel('Score')
plt.scatter(X,Y)
plt.plot(X,line);
plt.show()








hours_given = 9.25
score_pred = reg.predict([[hours_given]])
print("No. of Hours = ",hours_given)
print("Predicted Score = ",score_pred[0])







print("Train : ",reg.score(X_train,Y_train)*100)
print("Test : ",reg.score(X_test,Y_test)*100)






Y_pred = reg.predict(X_test)
from sklearn.metrics import mean_absolute_error
from sklearn.metrics import mean_squared_error
mean_abs_error=mean_absolute_error(Y_test,Y_pred)
mean_sqr_error=mean_squared_error(Y_test,Y_pred)
print("Mean Squared Error = ",mean_sqr_error)
print("Mean Abosulte Error = ",mean_abs_error)
